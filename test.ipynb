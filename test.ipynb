{
 "cells": [
  {
   "cell_type": "code",
   "execution_count": 1,
   "metadata": {},
   "outputs": [
    {
     "data": {
      "text/plain": [
       "<module 'models.PatchTST' from 'c:\\\\Users\\\\Omen\\\\PycharmProjects\\\\pointdata\\\\PatchTST_supervised\\\\models\\\\PatchTST.py'>"
      ]
     },
     "execution_count": 1,
     "metadata": {},
     "output_type": "execute_result"
    }
   ],
   "source": [
    "\n",
    "import torch\n",
    "from data_provider.data_factory import data_provider\n",
    "from models import PatchTST\n",
    "import importlib\n",
    "importlib.reload(PatchTST)\n"
   ]
  },
  {
   "cell_type": "code",
   "execution_count": 33,
   "metadata": {},
   "outputs": [],
   "source": [
    "class configClass():\n",
    "    activation='gelu'\n",
    "    affine=0\n",
    "    batch_size=128\n",
    "    c_out=7\n",
    "    checkpoints='./checkpoints/'\n",
    "    d_ff=256\n",
    "    d_layers=1\n",
    "    d_model=128\n",
    "    data='custom'\n",
    "    data_path='weather.csv'\n",
    "    dec_in=7\n",
    "    decomposition=0\n",
    "    des='Exp'\n",
    "    devices='0,1,2,3'\n",
    "    distil=True\n",
    "    do_predict=False\n",
    "    dropout=0.2\n",
    "    e_layers=3\n",
    "    embed='timeF'\n",
    "    embed_type=0\n",
    "    enc_in=21\n",
    "    factor=1\n",
    "    fc_dropout=0.2\n",
    "    features='M'\n",
    "    freq='h'\n",
    "    gpu=0\n",
    "    head_dropout=0.0\n",
    "    individual=0\n",
    "    is_training=1\n",
    "    itr=1\n",
    "    kernel_size=25\n",
    "    label_len=48\n",
    "    learning_rate=0.0001\n",
    "    loss='mse'\n",
    "    lradj='type3'\n",
    "    model='PatchTST'\n",
    "    model_id='model_id'\n",
    "    moving_avg=25\n",
    "    n_heads=16\n",
    "    num_workers=10\n",
    "    output_attention=False\n",
    "    padding_patch='end'\n",
    "    patch_len=16\n",
    "    patience=20\n",
    "    pct_start=0.3\n",
    "    pred_len=96\n",
    "    profiler_logdir='log/profiler_dir'\n",
    "    random_seed=2021\n",
    "    revin=1\n",
    "    root_path='./dataset/'\n",
    "    seq_len=336\n",
    "    stride=8\n",
    "    subtract_last=0\n",
    "    target='OT'\n",
    "    test_flop=False\n",
    "    train_epochs=100\n",
    "    use_amp=False\n",
    "    use_flashattention=False\n",
    "    use_gpu=True\n",
    "    use_multi_gpu=False\n",
    "config = configClass()"
   ]
  },
  {
   "cell_type": "code",
   "execution_count": 34,
   "metadata": {},
   "outputs": [],
   "source": [
    "# data_set, data_loader = data_provider(config, \"train\")\n",
    "# test_batch = next(iter(data_loader))"
   ]
  },
  {
   "cell_type": "code",
   "execution_count": 44,
   "metadata": {},
   "outputs": [],
   "source": [
    "model = PatchTST.Model(config).cuda()\n",
    "\n",
    "batch_rand = torch.randn(config.batch_size, config.seq_len, 5).cuda()"
   ]
  },
  {
   "cell_type": "code",
   "execution_count": 45,
   "metadata": {},
   "outputs": [
    {
     "data": {
      "text/plain": [
       "921184"
      ]
     },
     "execution_count": 45,
     "metadata": {},
     "output_type": "execute_result"
    }
   ],
   "source": [
    "pytorch_total_params = sum(p.numel() for p in model.parameters() if p.requires_grad)\n",
    "pytorch_total_params\n"
   ]
  },
  {
   "cell_type": "code",
   "execution_count": 46,
   "metadata": {},
   "outputs": [
    {
     "name": "stdout",
     "output_type": "stream",
     "text": [
      "not using flash attention\n",
      "not using flash attention\n",
      "not using flash attention\n"
     ]
    }
   ],
   "source": [
    "outputs = model(batch_rand)"
   ]
  },
  {
   "cell_type": "code",
   "execution_count": 47,
   "metadata": {},
   "outputs": [
    {
     "data": {
      "text/plain": [
       "torch.Size([128, 96, 5])"
      ]
     },
     "execution_count": 47,
     "metadata": {},
     "output_type": "execute_result"
    }
   ],
   "source": [
    "outputs.shape"
   ]
  },
  {
   "cell_type": "code",
   "execution_count": 6,
   "metadata": {},
   "outputs": [],
   "source": [
    "config.use_flashattention = True\n",
    "model = PatchTST.Model(config).cuda()\n"
   ]
  },
  {
   "cell_type": "code",
   "execution_count": 7,
   "metadata": {},
   "outputs": [
    {
     "data": {
      "text/plain": [
       "Model(\n",
       "  (model): PatchTST_backbone(\n",
       "    (revin_layer): RevIN()\n",
       "    (padding_patch_layer): ReplicationPad1d((0, 8))\n",
       "    (backbone): TSTiEncoder(\n",
       "      (W_P): Linear(in_features=16, out_features=128, bias=True)\n",
       "      (dropout): Dropout(p=0.2, inplace=False)\n",
       "      (encoder): TSTEncoder(\n",
       "        (layers): ModuleList(\n",
       "          (0-2): 3 x TSTEncoderLayer(\n",
       "            (self_attn): _MultiheadAttention(\n",
       "              (W_Q): Linear(in_features=128, out_features=128, bias=True)\n",
       "              (W_K): Linear(in_features=128, out_features=128, bias=True)\n",
       "              (W_V): Linear(in_features=128, out_features=128, bias=True)\n",
       "              (sdp_attn): _ScaledDotProductAttention(\n",
       "                (attn_dropout): Dropout(p=0.0, inplace=False)\n",
       "              )\n",
       "              (to_out): Sequential(\n",
       "                (0): Linear(in_features=128, out_features=128, bias=True)\n",
       "                (1): Dropout(p=0.2, inplace=False)\n",
       "              )\n",
       "            )\n",
       "            (dropout_attn): Dropout(p=0.2, inplace=False)\n",
       "            (norm_attn): Sequential(\n",
       "              (0): Transpose()\n",
       "              (1): BatchNorm1d(128, eps=1e-05, momentum=0.1, affine=True, track_running_stats=True)\n",
       "              (2): Transpose()\n",
       "            )\n",
       "            (ff): Sequential(\n",
       "              (0): Linear(in_features=128, out_features=256, bias=True)\n",
       "              (1): GELU(approximate='none')\n",
       "              (2): Dropout(p=0.2, inplace=False)\n",
       "              (3): Linear(in_features=256, out_features=128, bias=True)\n",
       "            )\n",
       "            (dropout_ffn): Dropout(p=0.2, inplace=False)\n",
       "            (norm_ffn): Sequential(\n",
       "              (0): Transpose()\n",
       "              (1): BatchNorm1d(128, eps=1e-05, momentum=0.1, affine=True, track_running_stats=True)\n",
       "              (2): Transpose()\n",
       "            )\n",
       "          )\n",
       "        )\n",
       "      )\n",
       "    )\n",
       "    (head): Flatten_Head(\n",
       "      (flatten): Flatten(start_dim=-2, end_dim=-1)\n",
       "      (linear): Linear(in_features=5376, out_features=96, bias=True)\n",
       "      (dropout): Dropout(p=0.0, inplace=False)\n",
       "    )\n",
       "  )\n",
       ")"
      ]
     },
     "execution_count": 7,
     "metadata": {},
     "output_type": "execute_result"
    }
   ],
   "source": [
    "model"
   ]
  },
  {
   "cell_type": "code",
   "execution_count": null,
   "metadata": {},
   "outputs": [],
   "source": [
    "outputs = model(batch_rand)"
   ]
  },
  {
   "cell_type": "code",
   "execution_count": null,
   "metadata": {},
   "outputs": [],
   "source": [
    "outputs.shape"
   ]
  },
  {
   "cell_type": "code",
   "execution_count": 2,
   "metadata": {},
   "outputs": [],
   "source": [
    "import pandas as pd\n",
    "df_raw = pd.read_csv(r\"C:\\Users\\Omen\\PycharmProjects\\pointdata\\PatchTST_supervised\\dataset\\weather.csv\")\n"
   ]
  },
  {
   "cell_type": "code",
   "execution_count": 16,
   "metadata": {},
   "outputs": [],
   "source": [
    "cols = list(df_raw.columns)\n",
    "cols.remove('OT')\n",
    "cols.remove('date')\n",
    "df_raw = df_raw[['date'] + cols + ['OT']]"
   ]
  },
  {
   "cell_type": "code",
   "execution_count": 21,
   "metadata": {},
   "outputs": [
    {
     "data": {
      "text/plain": [
       "Index(['date', 'p (mbar)', 'T (degC)', 'Tpot (K)', 'Tdew (degC)', 'rh (%)',\n",
       "       'VPmax (mbar)', 'VPact (mbar)', 'VPdef (mbar)', 'sh (g/kg)',\n",
       "       'H2OC (mmol/mol)', 'rho (g/m**3)', 'wv (m/s)', 'max. wv (m/s)',\n",
       "       'wd (deg)', 'rain (mm)', 'raining (s)', 'SWDR (W/m�)',\n",
       "       'PAR (�mol/m�/s)', 'max. PAR (�mol/m�/s)', 'Tlog (degC)', 'OT'],\n",
       "      dtype='object')"
      ]
     },
     "execution_count": 21,
     "metadata": {},
     "output_type": "execute_result"
    }
   ],
   "source": [
    "df_raw.columns"
   ]
  },
  {
   "cell_type": "code",
   "execution_count": 19,
   "metadata": {},
   "outputs": [],
   "source": [
    "\n",
    "cols_data = df_raw.columns[1:]"
   ]
  },
  {
   "cell_type": "code",
   "execution_count": 22,
   "metadata": {},
   "outputs": [],
   "source": [
    "df_data = df_raw[cols_data]"
   ]
  },
  {
   "cell_type": "code",
   "execution_count": 28,
   "metadata": {},
   "outputs": [
    {
     "data": {
      "text/plain": [
       "(52696, 21)"
      ]
     },
     "execution_count": 28,
     "metadata": {},
     "output_type": "execute_result"
    }
   ],
   "source": [
    "df_data.values.shape"
   ]
  },
  {
   "cell_type": "code",
   "execution_count": 29,
   "metadata": {},
   "outputs": [],
   "source": [
    "from data_provider.data_loader import Dataset_ETT_hour, Dataset_ETT_minute, Dataset_Custom, Dataset_Pred\n",
    "\n",
    "data_set = Dataset_Custom(\n",
    "        root_path=config.root_path,\n",
    "        data_path=config.data_path,\n",
    "        flag=\"train\",\n",
    "        size=[config.seq_len, config.label_len, config.pred_len],\n",
    "        features=config.features,\n",
    "        target=config.target,\n",
    "        timeenc=1,\n",
    "        freq=config.freq\n",
    "    )"
   ]
  },
  {
   "cell_type": "code",
   "execution_count": 30,
   "metadata": {},
   "outputs": [],
   "source": [
    "seq_x, seq_y, seq_x_mark, seq_y_mark = data_set[0]"
   ]
  },
  {
   "cell_type": "code",
   "execution_count": 31,
   "metadata": {},
   "outputs": [
    {
     "data": {
      "text/plain": [
       "(1024, 21)"
      ]
     },
     "execution_count": 31,
     "metadata": {},
     "output_type": "execute_result"
    }
   ],
   "source": [
    "seq_x.shape"
   ]
  },
  {
   "cell_type": "code",
   "execution_count": 41,
   "metadata": {},
   "outputs": [],
   "source": [
    "torch.cuda.empty_cache()"
   ]
  },
  {
   "cell_type": "code",
   "execution_count": null,
   "metadata": {},
   "outputs": [],
   "source": []
  },
  {
   "cell_type": "code",
   "execution_count": null,
   "metadata": {},
   "outputs": [],
   "source": []
  }
 ],
 "metadata": {
  "kernelspec": {
   "display_name": "test",
   "language": "python",
   "name": "python3"
  },
  "language_info": {
   "codemirror_mode": {
    "name": "ipython",
    "version": 3
   },
   "file_extension": ".py",
   "mimetype": "text/x-python",
   "name": "python",
   "nbconvert_exporter": "python",
   "pygments_lexer": "ipython3",
   "version": "3.8.18"
  }
 },
 "nbformat": 4,
 "nbformat_minor": 2
}
